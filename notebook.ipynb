{
 "cells": [
  {
   "cell_type": "markdown",
   "metadata": {},
   "source": [
    "### Stage 1: Data Preparation\n",
    "\n",
    "- [ ] Download [OpenEarthMap](https://zenodo.org/records/7223446) dataset using `zenodo-get` command\n",
    "- [ ] Organise Metadata for OpenEarthMap dataset\n",
    "- [ ] Create training, test, and validation splits\n",
    "- [ ] Export Metadata as a CSV file"
   ]
  },
  {
   "cell_type": "code",
   "execution_count": 1,
   "metadata": {},
   "outputs": [
    {
     "name": "stdout",
     "output_type": "stream",
     "text": [
      "doi: 10.5281/zenodo.7223446\n",
      "out_dir: data\n",
      "train_test_val_split: [0.75, 0.15, 0.1]\n",
      "metadata_file: data/metadata.csv\n",
      "random_seed: 37\n"
     ]
    }
   ],
   "source": [
    "from pathlib import Path\n",
    "from src.utils.common import read_yaml, show_config\n",
    "from src import PARAMS_FILEPATH\n",
    "from typing import List\n",
    "from dataclasses import dataclass\n",
    "\n",
    "@dataclass(frozen=True)\n",
    "class DataConfig: \n",
    "    doi: str\n",
    "    out_dir: Path\n",
    "    train_test_val_split: List\n",
    "    metadata_file: Path\n",
    "    random_seed: int\n",
    "\n",
    "class ConfigManager:\n",
    "    def __init__(self, config_path = PARAMS_FILEPATH) -> None:\n",
    "        self.config = read_yaml(config_path)\n",
    "\n",
    "    def get_data_config(self) -> DataConfig:\n",
    "        Path(self.config[\"out_dir\"]).mkdir(parents=True, exist_ok=True)\n",
    "        cfg = DataConfig(\n",
    "            doi = self.config[\"doi\"],\n",
    "            out_dir = Path(self.config[\"out_dir\"]),\n",
    "            train_test_val_split = self.config[\"train_test_val_split\"],\n",
    "            metadata_file = Path(self.config[\"metadata_file\"]),\n",
    "            random_seed = self.config[\"random_seed\"]\n",
    "        )\n",
    "        return cfg\n",
    "\n",
    "cfg = ConfigManager().get_data_config()\n",
    "show_config(cfg)"
   ]
  },
  {
   "cell_type": "code",
   "execution_count": 6,
   "metadata": {},
   "outputs": [],
   "source": [
    "# Components\n",
    "import os\n",
    "import subprocess\n",
    "\n",
    "class DataComponents:\n",
    "    def __init__(self, cfg: DataConfig) -> None:\n",
    "        self.config = cfg\n",
    "    \n",
    "    def download_data(self, unzip: bool = True, remove_zip: bool = False) -> None:\n",
    "        print(f\">>>>>>>>>>>> Downloading data from Zenodo <<<<<<<<<<<<\")\n",
    "        if not Path(self.config.out_dir).joinpath(\"OpenEarthMap_wo_xBD\").exists() and not Path(self.config.out_dir).joinpath(\"OpenEarthMap.zip\").exists():\n",
    "            cmd = f\"zenodo_get -e -d {self.config.doi} -o {self.config.out_dir}\"\n",
    "            subprocess.run(cmd, shell=True)\n",
    "            if unzip:\n",
    "                print(f\"--> Unzipping data\")\n",
    "                cmd = f\"unzip -q {self.config.out_dir}/OpenEarthMap.zip -d {self.config.out_dir}\"\n",
    "                subprocess.run(cmd, shell=True)\n",
    "                if remove_zip:\n",
    "                    os.remove(f\"{self.config.out_dir}/OpenEarthMap.zip\")\n",
    "        else:\n",
    "            print(\"--> Data already downloaded. Skipping.\")\n",
    "            \n",
    "    def aggregate_data(self) -> None:\n",
    "        from pathlib import Path\n",
    "        print(f\">>>>>>>>>>>> Aggregating data <<<<<<<<<<<<\")\n",
    "        # Aggregate Metadata\n",
    "        imgs = sorted(list(Path(self.config.out_dir).joinpath(\"OpenEarthMap_wo_xBD\").rglob('*/images/*.tif')))\n",
    "        labels = sorted(list(Path(self.config.out_dir).joinpath(\"OpenEarthMap_wo_xBD\").rglob('*/labels/*.tif')))\n",
    "\n",
    "        self.images = []\n",
    "        self.masks = []\n",
    "        # Check if labels exist\n",
    "        for img in imgs:\n",
    "            for label in labels:\n",
    "                if img.stem == label.stem:\n",
    "                    self.images.append(img)\n",
    "                    self.masks.append(label)\n",
    "                    \n",
    "        print(f\"--> Number of images with labels: {len(self.images)}\")\n",
    "        \n",
    "        # Delete images without labels\n",
    "        for img in imgs:\n",
    "            if img not in self.images:\n",
    "                os.remove(img)\n",
    "        for label in labels:\n",
    "            if label not in self.masks:\n",
    "                os.remove(label)\n",
    "    \n",
    "    def split_data(self) -> None:\n",
    "        import pandas as pd\n",
    "        print(f\">>>>>>>>>>>> Splitting data into train/val/test sets <<<<<<<<<<<<\")  \n",
    "        from sklearn.model_selection import train_test_split\n",
    "\n",
    "        meta = pd.DataFrame({\"image\": self.images, \"mask\": self.masks})\n",
    "\n",
    "        # Assuming cfg.train_test_val_split is a list of three values summing to 1, e.g. [0.7, 0.2, 0.1]\n",
    "        train_ratio, val_ratio, test_ratio = self.config.train_test_val_split\n",
    "\n",
    "        # First split: separate train from the rest\n",
    "        train_df, temp_df = train_test_split(meta, train_size=train_ratio, random_state=self.config.random_seed)\n",
    "\n",
    "        # Second split: divide the rest into val and test\n",
    "        val_ratio_adjusted = val_ratio / (val_ratio + test_ratio)\n",
    "        val_df, test_df = train_test_split(temp_df, train_size=val_ratio_adjusted, random_state=self.config.random_seed)\n",
    "\n",
    "        # Assign groups\n",
    "        train_df[\"group\"] = \"train\"\n",
    "        val_df[\"group\"] = \"val\"\n",
    "        test_df[\"group\"] = \"test\"\n",
    "        \n",
    "        print(f\"--> Number of images in train/val/test sets: {len(train_df)}, {len(val_df)}, {len(test_df)}\")\n",
    "\n",
    "        # Combine\n",
    "        self.metadata = pd.concat([train_df, val_df, test_df], axis=0)\n",
    "\n",
    "        # Save\n",
    "        self.metadata.to_csv(self.config.metadata_file, index=False)\n",
    "        print(f\"Metadata saved to {self.config.metadata_file}\")"
   ]
  },
  {
   "cell_type": "code",
   "execution_count": 7,
   "metadata": {},
   "outputs": [
    {
     "name": "stdout",
     "output_type": "stream",
     "text": [
      ">>>>>>>>>>>> Downloading data from Zenodo <<<<<<<<<<<<\n",
      "----------- Data already downloaded -----------\n",
      ">>>>>>>>>>>> Aggregating data <<<<<<<<<<<<\n",
      "Number of images with labels: 2687\n",
      ">>>>>>>>>>>> Splitting data into train/val/test sets <<<<<<<<<<<<\n",
      "Number of images in train/val/test sets: 2015, 403, 269\n",
      "Metadata saved to data/metadata.csv\n"
     ]
    }
   ],
   "source": [
    "pipeline = DataComponents(ConfigManager().get_data_config())\n",
    "pipeline.download_data(unzip=True, remove_zip=False)\n",
    "pipeline.aggregate_data()\n",
    "pipeline.split_data()"
   ]
  },
  {
   "cell_type": "markdown",
   "metadata": {},
   "source": [
    "### Stage 2: Data Preparation"
   ]
  },
  {
   "cell_type": "code",
   "execution_count": null,
   "metadata": {},
   "outputs": [],
   "source": []
  },
  {
   "cell_type": "markdown",
   "metadata": {},
   "source": [
    "### Stage 3: Model Training"
   ]
  },
  {
   "cell_type": "code",
   "execution_count": null,
   "metadata": {},
   "outputs": [],
   "source": []
  },
  {
   "cell_type": "markdown",
   "metadata": {},
   "source": [
    "### Stage 4: Model Evaluation"
   ]
  },
  {
   "cell_type": "markdown",
   "metadata": {},
   "source": []
  }
 ],
 "metadata": {
  "kernelspec": {
   "display_name": ".venv",
   "language": "python",
   "name": "python3"
  },
  "language_info": {
   "codemirror_mode": {
    "name": "ipython",
    "version": 3
   },
   "file_extension": ".py",
   "mimetype": "text/x-python",
   "name": "python",
   "nbconvert_exporter": "python",
   "pygments_lexer": "ipython3",
   "version": "3.10.14"
  }
 },
 "nbformat": 4,
 "nbformat_minor": 2
}
